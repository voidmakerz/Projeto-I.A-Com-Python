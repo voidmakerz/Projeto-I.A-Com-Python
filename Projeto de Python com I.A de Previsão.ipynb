{
 "cells": [
  {
   "cell_type": "markdown",
   "metadata": {},
   "source": [
    "# Projeto de Python com I.A\n",
    "\n",
    "### Projeto de Previsão do Score de Crédito dos Clientes\n",
    "\n",
    "Para definir os scores dos clientes. Vamos analisar a base de dados de todos os clientes do banco e, com base nessa análise, criar um modelo que consiga ler as informações do cliente e dizer automaticamente o score de crédito dele: Poor, Standard, Good (Ruim, Padrão, Bom).\n",
    "\n"
   ]
  },
  {
   "cell_type": "code",
   "execution_count": 39,
   "metadata": {},
   "outputs": [
    {
     "name": "stdout",
     "output_type": "stream",
     "text": [
      "0.8368\n",
      "0.7623\n"
     ]
    }
   ],
   "source": [
    "#Passo 1 Importar  a Base de Dados\n",
    "import pandas as pd \n",
    "tabela = pd.read_csv('clientes.csv')\n",
    "#Passo 2 Preparar a base de dados para o treinamento da I.A\n",
    "tabela.dropna()\n",
    "from sklearn.preprocessing import LabelEncoder\n",
    "#Criando Codificador dos Dados de texto\n",
    "codificador_profissão = LabelEncoder()\n",
    "codificador_comportamento_pagamento = LabelEncoder()\n",
    "codificador_mix_credito = LabelEncoder()\n",
    "#Aplicando a transformação nos dados\n",
    "tabela['profissao'] = codificador_profissão.fit_transform(tabela['profissao'])\n",
    "tabela['comportamento_pagamento'] = codificador_comportamento_pagamento.fit_transform(tabela['comportamento_pagamento'])\n",
    "tabela['mix_credito'] = codificador_mix_credito.fit_transform(tabela['mix_credito'])\n",
    "#Passo 3 Criar o modelo de Machine Learning e Sepoarar os dados\n",
    "# y é a coluna que queremos prever\n",
    "y = tabela['score_credito']\n",
    "# x é as colunas que vamos usar para prever y\n",
    "x = tabela.drop(columns=['score_credito','id_cliente'])\n",
    "# Separação dos dados em treinamento e teste\n",
    "from sklearn.model_selection import train_test_split\n",
    "x_treinamento, x_teste, y_treinamento, y_teste = train_test_split(x, y, test_size=0.01,random_state=42)\n",
    "#importando os modelos de I.A\n",
    "from sklearn.ensemble import RandomForestClassifier\n",
    "from sklearn.neighbors import KNeighborsClassifier\n",
    "#Criando os modelos de I.A\n",
    "Arvorezinha = RandomForestClassifier()\n",
    "Vizinhos = KNeighborsClassifier()\n",
    "#Treinamos os modelos com os dados de treinamento\n",
    "Arvorezinha.fit(x_treinamento,y_treinamento)\n",
    "Vizinhos.fit(x_treinamento,y_treinamento)\n",
    "#Verificando o percentual de acerto\n",
    "from sklearn.metrics import accuracy_score\n",
    "Previsão_arvorezinha = Arvorezinha.predict(x_teste)\n",
    "Previsão_vizinhos = Vizinhos.predict(x_teste)\n",
    "#Arvorezinha com 84% de acerto\n",
    "print(accuracy_score(y_teste,Previsão_arvorezinha))\n",
    "#Vizinhos com 76% de acerto\n",
    "print(accuracy_score(y_teste,Previsão_vizinhos))"
   ]
  },
  {
   "cell_type": "code",
   "execution_count": 40,
   "metadata": {},
   "outputs": [
    {
     "name": "stdout",
     "output_type": "stream",
     "text": [
      "['Poor' 'Good' 'Standard']\n"
     ]
    }
   ],
   "source": [
    "#importando a nova base de dados\n",
    "import pandas as pd \n",
    "tabela_novos_clientes = pd.read_csv('novos_clientes.csv')\n",
    "#Preparando a nova base de dados\n",
    "tabela_novos_clientes['profissao'] = codificador_profissão.fit_transform(tabela_novos_clientes['profissao'])\n",
    "tabela_novos_clientes['comportamento_pagamento'] = codificador_comportamento_pagamento.fit_transform(tabela_novos_clientes['comportamento_pagamento'])\n",
    "tabela_novos_clientes['mix_credito'] = codificador_mix_credito.fit_transform(tabela_novos_clientes['mix_credito'])\n",
    "#Exibindo os resultados da previsão\n",
    "print(Arvorezinha.predict(tabela_novos_clientes))"
   ]
  }
 ],
 "metadata": {
  "kernelspec": {
   "display_name": "Python 3",
   "language": "python",
   "name": "python3"
  },
  "language_info": {
   "codemirror_mode": {
    "name": "ipython",
    "version": 3
   },
   "file_extension": ".py",
   "mimetype": "text/x-python",
   "name": "python",
   "nbconvert_exporter": "python",
   "pygments_lexer": "ipython3",
   "version": "3.13.1"
  },
  "orig_nbformat": 4
 },
 "nbformat": 4,
 "nbformat_minor": 2
}
